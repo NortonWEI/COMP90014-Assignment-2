{
 "cells": [
  {
   "cell_type": "markdown",
   "metadata": {},
   "source": [
    "# COMP90014 Assignment 2\n",
    "### Semester 2, 2019\n",
    "\n",
    "**Task 6 has been ammended - please use this version"
   ]
  },
  {
   "cell_type": "markdown",
   "metadata": {},
   "source": [
    "This assignment should be completed by each student individually. Make sure you read this entire document, and ask for help if anything is not clear. Any changes or clarification to this document will be announced via the LMS.\n",
    "\n",
    "Please make sure you are aware of the University's rules on academic honesty and plagiarism, which are very strict: https://academichonesty.unimelb.edu.au/ \n",
    "\n",
    "Make sure you **do not** copy any code either from other students or from the internet. This is considered plagiarism. It is generally a good idea to avoid looking at any solutions as you may find it surprisingly difficult to generate your own solution to the problem once you have seen somebody else's.\n",
    "\n",
    "Your completed notebook file containing all your answers will be turned in via LMS. No other files or formats will be accepted - only upload the completed `.ipynb` file."
   ]
  },
  {
   "cell_type": "markdown",
   "metadata": {},
   "source": [
    "### Overview\n",
    "To complete the assignment you will need to finish the tasks in this notebook. There are multiple tasks that are connected in a logical order.\n",
    "\n",
    "The tasks are a combination of writing your own implementations of algorithms we've discussed in lectures, writing your own code to use library implementations of these algorithms and interpreting the results in short answer format. Each short answer question has a word limit that will be strictly enforced! **Please note that for this assignment, you may be awarded a mark of zero for a question if you go over the word limit.**\n",
    "\n",
    "In some case, we have provided test input and test output that you can use to try out your solutions. These tests are just samples and are not exhaustive - they may warn you if you've made a mistake, but they are not guaranteed to. It's up to you to decide whether your code is correct."
   ]
  },
  {
   "cell_type": "markdown",
   "metadata": {},
   "source": [
    "### Marking\n",
    "\n",
    "Cells that must be completed to receive marks are clearly labeled. There are 19 graded cells, some of which are code cells, in which you must complete the code to solve a problem, and some of which are markdown cells, in which you must write your answers to short-answer questions. \n",
    "\n",
    "In this assignment, every graded cell is worth 2 marks. In addition to the graded cells, up to 7 marks will be given for code style, readability, efficiency and comments. \n",
    "\n",
    "The total marks for the assignment add up to 45, and it will be worth 15% of your overall subject grade.\n",
    "\n",
    "Please make sure that you do not edit the \"GRADED CELL\" comments in either the code or the markdown cells, as this will disrupt the marking system."
   ]
  },
  {
   "cell_type": "markdown",
   "metadata": {},
   "source": [
    "### Background and data \n",
    "\n",
    "WGCNA stands for weighted gene co-expression network analysis. It is a data analysis technique used for studying biological networks based on pairwise correlations of gene expression data. WGCNA is good at identifying clusters of genes that may be co-regulated, and therefore may have shared biological function.\n",
    "\n",
    "For this assignment, you will primarily be using the [FlyAtlas](http://flyatlas.org) dataset. For this assignment, instead of using the probe-wise dataset, we will be using the expression value for each gene.\n",
    "\n"
   ]
  },
  {
   "cell_type": "markdown",
   "metadata": {},
   "source": [
    "## Task 0 - Setup "
   ]
  },
  {
   "cell_type": "code",
   "execution_count": 8,
   "metadata": {},
   "outputs": [],
   "source": [
    "%matplotlib inline\n",
    "import matplotlib.pyplot as plt\n",
    "import seaborn as sns\n",
    "import altair"
   ]
  },
  {
   "cell_type": "code",
   "execution_count": 9,
   "metadata": {},
   "outputs": [],
   "source": [
    "import pandas as pd\n",
    "import numpy as np\n",
    "import networkx as nx\n",
    "import scipy\n",
    "import re\n",
    "from io import StringIO\n",
    "from sklearn.decomposition import PCA\n",
    "from scipy.cluster.hierarchy import linkage, dendrogram, fcluster\n",
    "from scipy.spatial.distance import squareform"
   ]
  },
  {
   "cell_type": "markdown",
   "metadata": {},
   "source": [
    "### Read in data"
   ]
  },
  {
   "cell_type": "code",
   "execution_count": 10,
   "metadata": {},
   "outputs": [],
   "source": [
    "raw_expression = pd.read_csv('flyatlas_subset.csv.gz', index_col=0)"
   ]
  },
  {
   "cell_type": "code",
   "execution_count": 162,
   "metadata": {},
   "outputs": [
    {
     "data": {
      "text/html": [
       "<div>\n",
       "<style scoped>\n",
       "    .dataframe tbody tr th:only-of-type {\n",
       "        vertical-align: middle;\n",
       "    }\n",
       "\n",
       "    .dataframe tbody tr th {\n",
       "        vertical-align: top;\n",
       "    }\n",
       "\n",
       "    .dataframe thead th {\n",
       "        text-align: right;\n",
       "    }\n",
       "</style>\n",
       "<table border=\"1\" class=\"dataframe\">\n",
       "  <thead>\n",
       "    <tr style=\"text-align: right;\">\n",
       "      <th></th>\n",
       "      <th>Adult Hind Gut biological rep1</th>\n",
       "      <th>Adult Hind Gut biological rep2</th>\n",
       "      <th>Adult Hind Gut biological rep3</th>\n",
       "      <th>Adult Hind Gut biological rep4</th>\n",
       "      <th>Adult Mid Gut biological rep1</th>\n",
       "      <th>Adult Mid Gut biological rep2</th>\n",
       "      <th>Adult Mid Gut biological rep3</th>\n",
       "      <th>Adult Mid Gut biological rep4</th>\n",
       "      <th>Adult Accessory gland biological rep1</th>\n",
       "      <th>Adult Accessory gland biological rep2</th>\n",
       "      <th>...</th>\n",
       "      <th>Adult Thoracic Muscle biological rep3</th>\n",
       "      <th>Adult Thoracic Muscle biological rep4</th>\n",
       "      <th>Adult Wings biological rep1</th>\n",
       "      <th>Adult Wings biological rep2</th>\n",
       "      <th>Adult Wings biological rep3</th>\n",
       "      <th>Adult Wings biological rep4</th>\n",
       "      <th>Adult Female Spermatheca Mated (REDONE) biological rep1</th>\n",
       "      <th>Adult Female Spermatheca Mated (REDONE) biological rep2</th>\n",
       "      <th>Adult Female Spermatheca Mated (REDONE) biological rep3</th>\n",
       "      <th>Adult Female Spermatheca Mated (REDONE) biological rep4\"</th>\n",
       "    </tr>\n",
       "    <tr>\n",
       "      <th>Gene Symbol</th>\n",
       "      <th></th>\n",
       "      <th></th>\n",
       "      <th></th>\n",
       "      <th></th>\n",
       "      <th></th>\n",
       "      <th></th>\n",
       "      <th></th>\n",
       "      <th></th>\n",
       "      <th></th>\n",
       "      <th></th>\n",
       "      <th></th>\n",
       "      <th></th>\n",
       "      <th></th>\n",
       "      <th></th>\n",
       "      <th></th>\n",
       "      <th></th>\n",
       "      <th></th>\n",
       "      <th></th>\n",
       "      <th></th>\n",
       "      <th></th>\n",
       "      <th></th>\n",
       "    </tr>\n",
       "  </thead>\n",
       "  <tbody>\n",
       "    <tr>\n",
       "      <th>128up</th>\n",
       "      <td>214.51</td>\n",
       "      <td>246.60</td>\n",
       "      <td>216.58</td>\n",
       "      <td>221.67</td>\n",
       "      <td>264.60</td>\n",
       "      <td>281.02</td>\n",
       "      <td>300.13</td>\n",
       "      <td>255.19</td>\n",
       "      <td>427.69</td>\n",
       "      <td>467.31</td>\n",
       "      <td>...</td>\n",
       "      <td>113.94</td>\n",
       "      <td>363.60</td>\n",
       "      <td>196.98</td>\n",
       "      <td>262.51</td>\n",
       "      <td>181.06</td>\n",
       "      <td>204.36</td>\n",
       "      <td>380.88</td>\n",
       "      <td>112.69</td>\n",
       "      <td>294.49</td>\n",
       "      <td>329.09</td>\n",
       "    </tr>\n",
       "    <tr>\n",
       "      <th>140up</th>\n",
       "      <td>139.86</td>\n",
       "      <td>181.66</td>\n",
       "      <td>143.80</td>\n",
       "      <td>149.45</td>\n",
       "      <td>92.04</td>\n",
       "      <td>82.11</td>\n",
       "      <td>77.41</td>\n",
       "      <td>91.44</td>\n",
       "      <td>116.92</td>\n",
       "      <td>124.89</td>\n",
       "      <td>...</td>\n",
       "      <td>155.80</td>\n",
       "      <td>110.83</td>\n",
       "      <td>79.41</td>\n",
       "      <td>81.81</td>\n",
       "      <td>76.40</td>\n",
       "      <td>68.41</td>\n",
       "      <td>85.91</td>\n",
       "      <td>128.33</td>\n",
       "      <td>87.19</td>\n",
       "      <td>104.89</td>\n",
       "    </tr>\n",
       "    <tr>\n",
       "      <th>18w</th>\n",
       "      <td>241.72</td>\n",
       "      <td>247.03</td>\n",
       "      <td>245.75</td>\n",
       "      <td>262.19</td>\n",
       "      <td>54.11</td>\n",
       "      <td>60.05</td>\n",
       "      <td>60.70</td>\n",
       "      <td>54.94</td>\n",
       "      <td>33.03</td>\n",
       "      <td>39.50</td>\n",
       "      <td>...</td>\n",
       "      <td>100.41</td>\n",
       "      <td>294.09</td>\n",
       "      <td>772.39</td>\n",
       "      <td>700.45</td>\n",
       "      <td>752.14</td>\n",
       "      <td>754.72</td>\n",
       "      <td>285.76</td>\n",
       "      <td>66.53</td>\n",
       "      <td>248.04</td>\n",
       "      <td>264.25</td>\n",
       "    </tr>\n",
       "    <tr>\n",
       "      <th>312</th>\n",
       "      <td>4.17</td>\n",
       "      <td>2.60</td>\n",
       "      <td>3.53</td>\n",
       "      <td>4.61</td>\n",
       "      <td>0.19</td>\n",
       "      <td>0.58</td>\n",
       "      <td>0.98</td>\n",
       "      <td>2.65</td>\n",
       "      <td>8.85</td>\n",
       "      <td>0.34</td>\n",
       "      <td>...</td>\n",
       "      <td>68.38</td>\n",
       "      <td>0.36</td>\n",
       "      <td>7.04</td>\n",
       "      <td>2.94</td>\n",
       "      <td>8.26</td>\n",
       "      <td>5.44</td>\n",
       "      <td>5.01</td>\n",
       "      <td>35.10</td>\n",
       "      <td>2.39</td>\n",
       "      <td>2.27</td>\n",
       "    </tr>\n",
       "    <tr>\n",
       "      <th>7B2</th>\n",
       "      <td>25.78</td>\n",
       "      <td>19.12</td>\n",
       "      <td>34.80</td>\n",
       "      <td>21.65</td>\n",
       "      <td>89.00</td>\n",
       "      <td>116.57</td>\n",
       "      <td>114.17</td>\n",
       "      <td>123.41</td>\n",
       "      <td>2.34</td>\n",
       "      <td>0.62</td>\n",
       "      <td>...</td>\n",
       "      <td>175.85</td>\n",
       "      <td>1.39</td>\n",
       "      <td>172.12</td>\n",
       "      <td>194.97</td>\n",
       "      <td>128.78</td>\n",
       "      <td>183.38</td>\n",
       "      <td>0.84</td>\n",
       "      <td>16.02</td>\n",
       "      <td>2.64</td>\n",
       "      <td>0.58</td>\n",
       "    </tr>\n",
       "  </tbody>\n",
       "</table>\n",
       "<p>5 rows × 136 columns</p>\n",
       "</div>"
      ],
      "text/plain": [
       "             Adult Hind Gut biological rep1  Adult Hind Gut biological rep2  \\\n",
       "Gene Symbol                                                                   \n",
       "128up                                214.51                          246.60   \n",
       "140up                                139.86                          181.66   \n",
       "18w                                  241.72                          247.03   \n",
       "312                                    4.17                            2.60   \n",
       "7B2                                   25.78                           19.12   \n",
       "\n",
       "             Adult Hind Gut biological rep3  Adult Hind Gut biological rep4  \\\n",
       "Gene Symbol                                                                   \n",
       "128up                                216.58                          221.67   \n",
       "140up                                143.80                          149.45   \n",
       "18w                                  245.75                          262.19   \n",
       "312                                    3.53                            4.61   \n",
       "7B2                                   34.80                           21.65   \n",
       "\n",
       "             Adult Mid Gut biological rep1  Adult Mid Gut biological rep2  \\\n",
       "Gene Symbol                                                                 \n",
       "128up                               264.60                         281.02   \n",
       "140up                                92.04                          82.11   \n",
       "18w                                  54.11                          60.05   \n",
       "312                                   0.19                           0.58   \n",
       "7B2                                  89.00                         116.57   \n",
       "\n",
       "             Adult Mid Gut biological rep3  Adult Mid Gut biological rep4  \\\n",
       "Gene Symbol                                                                 \n",
       "128up                               300.13                         255.19   \n",
       "140up                                77.41                          91.44   \n",
       "18w                                  60.70                          54.94   \n",
       "312                                   0.98                           2.65   \n",
       "7B2                                 114.17                         123.41   \n",
       "\n",
       "             Adult Accessory gland biological rep1  \\\n",
       "Gene Symbol                                          \n",
       "128up                                       427.69   \n",
       "140up                                       116.92   \n",
       "18w                                          33.03   \n",
       "312                                           8.85   \n",
       "7B2                                           2.34   \n",
       "\n",
       "             Adult Accessory gland biological rep2  \\\n",
       "Gene Symbol                                          \n",
       "128up                                       467.31   \n",
       "140up                                       124.89   \n",
       "18w                                          39.50   \n",
       "312                                           0.34   \n",
       "7B2                                           0.62   \n",
       "\n",
       "                                        ...                              \\\n",
       "Gene Symbol                             ...                               \n",
       "128up                                   ...                               \n",
       "140up                                   ...                               \n",
       "18w                                     ...                               \n",
       "312                                     ...                               \n",
       "7B2                                     ...                               \n",
       "\n",
       "             Adult Thoracic Muscle biological rep3  \\\n",
       "Gene Symbol                                          \n",
       "128up                                       113.94   \n",
       "140up                                       155.80   \n",
       "18w                                         100.41   \n",
       "312                                          68.38   \n",
       "7B2                                         175.85   \n",
       "\n",
       "             Adult Thoracic Muscle biological rep4  \\\n",
       "Gene Symbol                                          \n",
       "128up                                       363.60   \n",
       "140up                                       110.83   \n",
       "18w                                         294.09   \n",
       "312                                           0.36   \n",
       "7B2                                           1.39   \n",
       "\n",
       "             Adult Wings biological rep1  Adult Wings biological rep2  \\\n",
       "Gene Symbol                                                             \n",
       "128up                             196.98                       262.51   \n",
       "140up                              79.41                        81.81   \n",
       "18w                               772.39                       700.45   \n",
       "312                                 7.04                         2.94   \n",
       "7B2                               172.12                       194.97   \n",
       "\n",
       "             Adult Wings biological rep3  Adult Wings biological rep4  \\\n",
       "Gene Symbol                                                             \n",
       "128up                             181.06                       204.36   \n",
       "140up                              76.40                        68.41   \n",
       "18w                               752.14                       754.72   \n",
       "312                                 8.26                         5.44   \n",
       "7B2                               128.78                       183.38   \n",
       "\n",
       "             Adult Female Spermatheca Mated (REDONE) biological rep1  \\\n",
       "Gene Symbol                                                            \n",
       "128up                                                   380.88         \n",
       "140up                                                    85.91         \n",
       "18w                                                     285.76         \n",
       "312                                                       5.01         \n",
       "7B2                                                       0.84         \n",
       "\n",
       "             Adult Female Spermatheca Mated (REDONE) biological rep2  \\\n",
       "Gene Symbol                                                            \n",
       "128up                                                   112.69         \n",
       "140up                                                   128.33         \n",
       "18w                                                      66.53         \n",
       "312                                                      35.10         \n",
       "7B2                                                      16.02         \n",
       "\n",
       "             Adult Female Spermatheca Mated (REDONE) biological rep3  \\\n",
       "Gene Symbol                                                            \n",
       "128up                                                   294.49         \n",
       "140up                                                    87.19         \n",
       "18w                                                     248.04         \n",
       "312                                                       2.39         \n",
       "7B2                                                       2.64         \n",
       "\n",
       "             Adult Female Spermatheca Mated (REDONE) biological rep4\"\\n  \n",
       "Gene Symbol                                                              \n",
       "128up                                                   329.09           \n",
       "140up                                                   104.89           \n",
       "18w                                                     264.25           \n",
       "312                                                       2.27           \n",
       "7B2                                                       0.58           \n",
       "\n",
       "[5 rows x 136 columns]"
      ]
     },
     "execution_count": 162,
     "metadata": {},
     "output_type": "execute_result"
    }
   ],
   "source": [
    "raw_expression.head()"
   ]
  },
  {
   "cell_type": "markdown",
   "metadata": {},
   "source": [
    "The data frame has 18952 rows (measurements) and 136 columns (samples) so it is certainly high dimensional.These 136 columns represent 4 replicates each from 34 different tissue types."
   ]
  },
  {
   "cell_type": "markdown",
   "metadata": {},
   "source": [
    "We will set numpy and pandas to display numbers to just two decimal places in this notebook - this won't affect the actual numbers, just their display, and you can change it if you prefer."
   ]
  },
  {
   "cell_type": "code",
   "execution_count": 163,
   "metadata": {},
   "outputs": [],
   "source": [
    "np.set_printoptions(precision=2)\n",
    "pd.options.display.precision=2"
   ]
  },
  {
   "cell_type": "code",
   "execution_count": 164,
   "metadata": {},
   "outputs": [
    {
     "data": {
      "text/html": [
       "<div>\n",
       "<style scoped>\n",
       "    .dataframe tbody tr th:only-of-type {\n",
       "        vertical-align: middle;\n",
       "    }\n",
       "\n",
       "    .dataframe tbody tr th {\n",
       "        vertical-align: top;\n",
       "    }\n",
       "\n",
       "    .dataframe thead th {\n",
       "        text-align: right;\n",
       "    }\n",
       "</style>\n",
       "<table border=\"1\" class=\"dataframe\">\n",
       "  <thead>\n",
       "    <tr style=\"text-align: right;\">\n",
       "      <th></th>\n",
       "      <th>Adult Hind Gut biological rep1</th>\n",
       "      <th>Adult Hind Gut biological rep2</th>\n",
       "      <th>Adult Hind Gut biological rep3</th>\n",
       "      <th>Adult Hind Gut biological rep4</th>\n",
       "      <th>Adult Mid Gut biological rep1</th>\n",
       "      <th>Adult Mid Gut biological rep2</th>\n",
       "      <th>Adult Mid Gut biological rep3</th>\n",
       "      <th>Adult Mid Gut biological rep4</th>\n",
       "      <th>Adult Accessory gland biological rep1</th>\n",
       "      <th>Adult Accessory gland biological rep2</th>\n",
       "      <th>...</th>\n",
       "      <th>Adult Thoracic Muscle biological rep3</th>\n",
       "      <th>Adult Thoracic Muscle biological rep4</th>\n",
       "      <th>Adult Wings biological rep1</th>\n",
       "      <th>Adult Wings biological rep2</th>\n",
       "      <th>Adult Wings biological rep3</th>\n",
       "      <th>Adult Wings biological rep4</th>\n",
       "      <th>Adult Female Spermatheca Mated (REDONE) biological rep1</th>\n",
       "      <th>Adult Female Spermatheca Mated (REDONE) biological rep2</th>\n",
       "      <th>Adult Female Spermatheca Mated (REDONE) biological rep3</th>\n",
       "      <th>Adult Female Spermatheca Mated (REDONE) biological rep4\"</th>\n",
       "    </tr>\n",
       "    <tr>\n",
       "      <th>Gene Symbol</th>\n",
       "      <th></th>\n",
       "      <th></th>\n",
       "      <th></th>\n",
       "      <th></th>\n",
       "      <th></th>\n",
       "      <th></th>\n",
       "      <th></th>\n",
       "      <th></th>\n",
       "      <th></th>\n",
       "      <th></th>\n",
       "      <th></th>\n",
       "      <th></th>\n",
       "      <th></th>\n",
       "      <th></th>\n",
       "      <th></th>\n",
       "      <th></th>\n",
       "      <th></th>\n",
       "      <th></th>\n",
       "      <th></th>\n",
       "      <th></th>\n",
       "      <th></th>\n",
       "    </tr>\n",
       "  </thead>\n",
       "  <tbody>\n",
       "    <tr>\n",
       "      <th>128up</th>\n",
       "      <td>214.51</td>\n",
       "      <td>246.60</td>\n",
       "      <td>216.58</td>\n",
       "      <td>221.67</td>\n",
       "      <td>264.60</td>\n",
       "      <td>281.02</td>\n",
       "      <td>300.13</td>\n",
       "      <td>255.19</td>\n",
       "      <td>427.69</td>\n",
       "      <td>467.31</td>\n",
       "      <td>...</td>\n",
       "      <td>113.94</td>\n",
       "      <td>363.60</td>\n",
       "      <td>196.98</td>\n",
       "      <td>262.51</td>\n",
       "      <td>181.06</td>\n",
       "      <td>204.36</td>\n",
       "      <td>380.88</td>\n",
       "      <td>112.69</td>\n",
       "      <td>294.49</td>\n",
       "      <td>329.09</td>\n",
       "    </tr>\n",
       "    <tr>\n",
       "      <th>140up</th>\n",
       "      <td>139.86</td>\n",
       "      <td>181.66</td>\n",
       "      <td>143.80</td>\n",
       "      <td>149.45</td>\n",
       "      <td>92.04</td>\n",
       "      <td>82.11</td>\n",
       "      <td>77.41</td>\n",
       "      <td>91.44</td>\n",
       "      <td>116.92</td>\n",
       "      <td>124.89</td>\n",
       "      <td>...</td>\n",
       "      <td>155.80</td>\n",
       "      <td>110.83</td>\n",
       "      <td>79.41</td>\n",
       "      <td>81.81</td>\n",
       "      <td>76.40</td>\n",
       "      <td>68.41</td>\n",
       "      <td>85.91</td>\n",
       "      <td>128.33</td>\n",
       "      <td>87.19</td>\n",
       "      <td>104.89</td>\n",
       "    </tr>\n",
       "    <tr>\n",
       "      <th>18w</th>\n",
       "      <td>241.72</td>\n",
       "      <td>247.03</td>\n",
       "      <td>245.75</td>\n",
       "      <td>262.19</td>\n",
       "      <td>54.11</td>\n",
       "      <td>60.05</td>\n",
       "      <td>60.70</td>\n",
       "      <td>54.94</td>\n",
       "      <td>33.03</td>\n",
       "      <td>39.50</td>\n",
       "      <td>...</td>\n",
       "      <td>100.41</td>\n",
       "      <td>294.09</td>\n",
       "      <td>772.39</td>\n",
       "      <td>700.45</td>\n",
       "      <td>752.14</td>\n",
       "      <td>754.72</td>\n",
       "      <td>285.76</td>\n",
       "      <td>66.53</td>\n",
       "      <td>248.04</td>\n",
       "      <td>264.25</td>\n",
       "    </tr>\n",
       "    <tr>\n",
       "      <th>312</th>\n",
       "      <td>4.17</td>\n",
       "      <td>2.60</td>\n",
       "      <td>3.53</td>\n",
       "      <td>4.61</td>\n",
       "      <td>0.19</td>\n",
       "      <td>0.58</td>\n",
       "      <td>0.98</td>\n",
       "      <td>2.65</td>\n",
       "      <td>8.85</td>\n",
       "      <td>0.34</td>\n",
       "      <td>...</td>\n",
       "      <td>68.38</td>\n",
       "      <td>0.36</td>\n",
       "      <td>7.04</td>\n",
       "      <td>2.94</td>\n",
       "      <td>8.26</td>\n",
       "      <td>5.44</td>\n",
       "      <td>5.01</td>\n",
       "      <td>35.10</td>\n",
       "      <td>2.39</td>\n",
       "      <td>2.27</td>\n",
       "    </tr>\n",
       "    <tr>\n",
       "      <th>7B2</th>\n",
       "      <td>25.78</td>\n",
       "      <td>19.12</td>\n",
       "      <td>34.80</td>\n",
       "      <td>21.65</td>\n",
       "      <td>89.00</td>\n",
       "      <td>116.57</td>\n",
       "      <td>114.17</td>\n",
       "      <td>123.41</td>\n",
       "      <td>2.34</td>\n",
       "      <td>0.62</td>\n",
       "      <td>...</td>\n",
       "      <td>175.85</td>\n",
       "      <td>1.39</td>\n",
       "      <td>172.12</td>\n",
       "      <td>194.97</td>\n",
       "      <td>128.78</td>\n",
       "      <td>183.38</td>\n",
       "      <td>0.84</td>\n",
       "      <td>16.02</td>\n",
       "      <td>2.64</td>\n",
       "      <td>0.58</td>\n",
       "    </tr>\n",
       "  </tbody>\n",
       "</table>\n",
       "<p>5 rows × 136 columns</p>\n",
       "</div>"
      ],
      "text/plain": [
       "             Adult Hind Gut biological rep1  Adult Hind Gut biological rep2  \\\n",
       "Gene Symbol                                                                   \n",
       "128up                                214.51                          246.60   \n",
       "140up                                139.86                          181.66   \n",
       "18w                                  241.72                          247.03   \n",
       "312                                    4.17                            2.60   \n",
       "7B2                                   25.78                           19.12   \n",
       "\n",
       "             Adult Hind Gut biological rep3  Adult Hind Gut biological rep4  \\\n",
       "Gene Symbol                                                                   \n",
       "128up                                216.58                          221.67   \n",
       "140up                                143.80                          149.45   \n",
       "18w                                  245.75                          262.19   \n",
       "312                                    3.53                            4.61   \n",
       "7B2                                   34.80                           21.65   \n",
       "\n",
       "             Adult Mid Gut biological rep1  Adult Mid Gut biological rep2  \\\n",
       "Gene Symbol                                                                 \n",
       "128up                               264.60                         281.02   \n",
       "140up                                92.04                          82.11   \n",
       "18w                                  54.11                          60.05   \n",
       "312                                   0.19                           0.58   \n",
       "7B2                                  89.00                         116.57   \n",
       "\n",
       "             Adult Mid Gut biological rep3  Adult Mid Gut biological rep4  \\\n",
       "Gene Symbol                                                                 \n",
       "128up                               300.13                         255.19   \n",
       "140up                                77.41                          91.44   \n",
       "18w                                  60.70                          54.94   \n",
       "312                                   0.98                           2.65   \n",
       "7B2                                 114.17                         123.41   \n",
       "\n",
       "             Adult Accessory gland biological rep1  \\\n",
       "Gene Symbol                                          \n",
       "128up                                       427.69   \n",
       "140up                                       116.92   \n",
       "18w                                          33.03   \n",
       "312                                           8.85   \n",
       "7B2                                           2.34   \n",
       "\n",
       "             Adult Accessory gland biological rep2  \\\n",
       "Gene Symbol                                          \n",
       "128up                                       467.31   \n",
       "140up                                       124.89   \n",
       "18w                                          39.50   \n",
       "312                                           0.34   \n",
       "7B2                                           0.62   \n",
       "\n",
       "                                        ...                              \\\n",
       "Gene Symbol                             ...                               \n",
       "128up                                   ...                               \n",
       "140up                                   ...                               \n",
       "18w                                     ...                               \n",
       "312                                     ...                               \n",
       "7B2                                     ...                               \n",
       "\n",
       "             Adult Thoracic Muscle biological rep3  \\\n",
       "Gene Symbol                                          \n",
       "128up                                       113.94   \n",
       "140up                                       155.80   \n",
       "18w                                         100.41   \n",
       "312                                          68.38   \n",
       "7B2                                         175.85   \n",
       "\n",
       "             Adult Thoracic Muscle biological rep4  \\\n",
       "Gene Symbol                                          \n",
       "128up                                       363.60   \n",
       "140up                                       110.83   \n",
       "18w                                         294.09   \n",
       "312                                           0.36   \n",
       "7B2                                           1.39   \n",
       "\n",
       "             Adult Wings biological rep1  Adult Wings biological rep2  \\\n",
       "Gene Symbol                                                             \n",
       "128up                             196.98                       262.51   \n",
       "140up                              79.41                        81.81   \n",
       "18w                               772.39                       700.45   \n",
       "312                                 7.04                         2.94   \n",
       "7B2                               172.12                       194.97   \n",
       "\n",
       "             Adult Wings biological rep3  Adult Wings biological rep4  \\\n",
       "Gene Symbol                                                             \n",
       "128up                             181.06                       204.36   \n",
       "140up                              76.40                        68.41   \n",
       "18w                               752.14                       754.72   \n",
       "312                                 8.26                         5.44   \n",
       "7B2                               128.78                       183.38   \n",
       "\n",
       "             Adult Female Spermatheca Mated (REDONE) biological rep1  \\\n",
       "Gene Symbol                                                            \n",
       "128up                                                   380.88         \n",
       "140up                                                    85.91         \n",
       "18w                                                     285.76         \n",
       "312                                                       5.01         \n",
       "7B2                                                       0.84         \n",
       "\n",
       "             Adult Female Spermatheca Mated (REDONE) biological rep2  \\\n",
       "Gene Symbol                                                            \n",
       "128up                                                   112.69         \n",
       "140up                                                   128.33         \n",
       "18w                                                      66.53         \n",
       "312                                                      35.10         \n",
       "7B2                                                      16.02         \n",
       "\n",
       "             Adult Female Spermatheca Mated (REDONE) biological rep3  \\\n",
       "Gene Symbol                                                            \n",
       "128up                                                   294.49         \n",
       "140up                                                    87.19         \n",
       "18w                                                     248.04         \n",
       "312                                                       2.39         \n",
       "7B2                                                       2.64         \n",
       "\n",
       "             Adult Female Spermatheca Mated (REDONE) biological rep4\"\\n  \n",
       "Gene Symbol                                                              \n",
       "128up                                                   329.09           \n",
       "140up                                                   104.89           \n",
       "18w                                                     264.25           \n",
       "312                                                       2.27           \n",
       "7B2                                                       0.58           \n",
       "\n",
       "[5 rows x 136 columns]"
      ]
     },
     "execution_count": 164,
     "metadata": {},
     "output_type": "execute_result"
    }
   ],
   "source": [
    "# The actual stored numbers have not changed\n",
    "raw_expression.head()"
   ]
  },
  {
   "cell_type": "code",
   "execution_count": 166,
   "metadata": {},
   "outputs": [],
   "source": [
    "log_expression = np.log(raw_expression)"
   ]
  },
  {
   "cell_type": "markdown",
   "metadata": {},
   "source": [
    "The following code snippet removes the replicate name from each sample, so we can use these labels as categories for plotting later."
   ]
  },
  {
   "cell_type": "code",
   "execution_count": 167,
   "metadata": {},
   "outputs": [],
   "source": [
    "tissues_list = [re.match('(.+?)(( biological)? rep\\d+)', c).group(1)\n",
    "                     for c in raw_expression.columns]\n",
    "tissues = pd.Series(tissues_list, index = raw_expression.columns)"
   ]
  },
  {
   "cell_type": "code",
   "execution_count": 168,
   "metadata": {},
   "outputs": [
    {
     "data": {
      "text/plain": [
       "136"
      ]
     },
     "execution_count": 168,
     "metadata": {},
     "output_type": "execute_result"
    }
   ],
   "source": [
    "len(tissues)"
   ]
  },
  {
   "cell_type": "markdown",
   "metadata": {},
   "source": [
    "## Task 1 - Building a correlation matrix"
   ]
  },
  {
   "cell_type": "markdown",
   "metadata": {},
   "source": [
    "**Task 1(a)**\n",
    "\n",
    "The [FlyAtlas](http://flyatlas.org) dataset contains four biological replicates for each tissue. Combine the biological replicates by calculating the mean expression value for each gene in each tissue."
   ]
  },
  {
   "cell_type": "code",
   "execution_count": 264,
   "metadata": {},
   "outputs": [],
   "source": [
    "# ~~ GRADED CELL - complete this cell ~~\n",
    "\n",
    "def average_by_tissue(expression, tissues):\n",
    "    '''\n",
    "    Given a DataFrame of gene expression data, \n",
    "    and a list, array or Series of tissues corresponding to the columns of the dataframe,\n",
    "    average over the expression values in each gene for each tissue type and\n",
    "    return the resulting dataframe. \n",
    "    The columns of the new dataframe should correspond to the provided tissues.\n",
    "    '''\n",
    "    # return None if the tissues size is 0\n",
    "    if len(tissues) == 0:\n",
    "        return None\n",
    "        \n",
    "    # create a dict for the matrix\n",
    "    comb_correlation_matrix = dict()\n",
    "    # remove all the duplicates and create a list \"df_col\" for column names \n",
    "    df_col = list(dict.fromkeys(tissues))\n",
    "    \n",
    "    for row_idx, row in enumerate(expression.index):\n",
    "        # create a list as each value in \"comb_correlation_matrix\" dict, use \"gene symbol\" as the key\n",
    "        comb_correlation_matrix[row] = list()\n",
    "        for col in df_col:\n",
    "            sum_val, num_val = 0, 0\n",
    "            for col_idx, tissue in enumerate(tissues):\n",
    "                # calculate the average for all the columns with the same column name\n",
    "                if tissue == col:\n",
    "                    sum_val += expression.iat[row_idx, col_idx]\n",
    "                    num_val += 1\n",
    "            # assign values to the lists\n",
    "            comb_correlation_matrix[row].append(sum_val / num_val)\n",
    "            \n",
    "    return pd.DataFrame.from_dict(comb_correlation_matrix, orient='index', columns=df_col)"
   ]
  },
  {
   "cell_type": "markdown",
   "metadata": {},
   "source": [
    "The below test case should return\n",
    "\n",
    "```\n",
    "      A    B\n",
    "0   4.5  2.5\n",
    "1  10.0  7.0\n",
    "```\n"
   ]
  },
  {
   "cell_type": "code",
   "execution_count": 269,
   "metadata": {},
   "outputs": [
    {
     "name": "stdout",
     "output_type": "stream",
     "text": [
      "      A    B\n",
      "0   4.5  2.5\n",
      "1  10.0  7.0\n"
     ]
    }
   ],
   "source": [
    "test_df = pd.DataFrame([[5,4,3,2],[10,10,6,8]])\n",
    "print(average_by_tissue(test_df, ['A','A','B','B']))"
   ]
  },
  {
   "cell_type": "code",
   "execution_count": 266,
   "metadata": {},
   "outputs": [],
   "source": [
    "# Calculate expression for each tissue in the flyatlas data\n",
    "tissue_expression = average_by_tissue(log_expression, tissues)"
   ]
  },
  {
   "cell_type": "code",
   "execution_count": 267,
   "metadata": {},
   "outputs": [
    {
     "data": {
      "text/plain": [
       "(3114, 34)"
      ]
     },
     "execution_count": 267,
     "metadata": {},
     "output_type": "execute_result"
    }
   ],
   "source": [
    "tissue_expression.shape"
   ]
  },
  {
   "cell_type": "markdown",
   "metadata": {},
   "source": [
    "**Task 1(b)**\n",
    "\n",
    "WGCNA starts by building a pairwise correlation matrix of genes. Using the matrix you just created, produce an *unsigned* correlation matrix where each cell contains the absolute value of the correlation coefficients.\n",
    "\n",
    "You can calculate the Pearson correlation values yourself, or look up a numpy or scipy function to do so."
   ]
  },
  {
   "cell_type": "code",
   "execution_count": null,
   "metadata": {},
   "outputs": [],
   "source": [
    "# ~~ GRADED CELL - complete this cell ~~\n",
    "\n",
    "def calculate_unsigned_correlation(expression):\n",
    "    ''' \n",
    "    Produce the unsigned correlation matrix for a table of gene expression values.\n",
    "    Assume that the columns of the expression matrix are samples and the rows are\n",
    "    genes, and return an array of arrays giving the Pearson correlation between each pair of genes,\n",
    "    in the same order as the rows of the expression table.\n",
    "    '''\n"
   ]
  },
  {
   "cell_type": "markdown",
   "metadata": {},
   "source": [
    "The below test case should return (if displayed to a precision of two decimal places)\n",
    "\n",
    "```\n",
    "array([[ 1.  ,  0.95,  0.96,  0.44,  0.3 ,  0.15],\n",
    "       [ 0.95,  1.  ,  1.  ,  0.71,  0.59,  0.46],\n",
    "       [ 0.96,  1.  ,  1.  ,  0.67,  0.54,  0.41],\n",
    "       [ 0.44,  0.71,  0.67,  1.  ,  0.99,  0.95],\n",
    "       [ 0.3 ,  0.59,  0.54,  0.99,  1.  ,  0.99],\n",
    "       [ 0.15,  0.46,  0.41,  0.95,  0.99,  1.  ]])\n",
    "```"
   ]
  },
  {
   "cell_type": "code",
   "execution_count": null,
   "metadata": {},
   "outputs": [],
   "source": [
    "test_df = pd.DataFrame([[ 3.8,  2.7,  4.5],\n",
    "                       [ 4.3,  3.4,  6.2],\n",
    "                       [ 5.3,  4.3,  7. ],\n",
    "                       [ 4.6,  6. ,  7.7],\n",
    "                       [ 5.2,  7.3,  8.8],\n",
    "                       [ 6.2,  8.5,  9.4]], \n",
    "                         columns=['Tissue1', 'Tissue2', 'Tissue3'],\n",
    "                         index=['GeneA', 'GeneB', 'GeneC', 'GeneD', 'GeneE', 'GeneF'])\n",
    "calculate_unsigned_correlation(test_df)"
   ]
  },
  {
   "cell_type": "markdown",
   "metadata": {},
   "source": [
    "The below test case should return (if displayed to a precision of two decimal places)\n",
    "\n",
    "```\n",
    "array([[ 1.  ,  0.95,  0.3 ,  0.15],\n",
    "       [ 0.95,  1.  ,  0.59,  0.46],\n",
    "       [ 0.3 ,  0.59,  1.  ,  0.99],\n",
    "       [ 0.15,  0.46,  0.99,  1.  ]])\n",
    "```"
   ]
  },
  {
   "cell_type": "code",
   "execution_count": null,
   "metadata": {},
   "outputs": [],
   "source": [
    "test_df = pd.DataFrame([[ 3.8,  2.7,  4.5],\n",
    "                       [ 4.3,  3.4,  6.2],\n",
    "                       [ 5.2,  7.3,  8.8],\n",
    "                       [ 6.2,  8.5,  9.4]], \n",
    "                         columns=['Tissue1', 'Tissue2', 'Tissue3'],\n",
    "                         index=['GeneA', 'GeneB', 'GeneC', 'GeneD'])\n",
    "calculate_unsigned_correlation(test_df)"
   ]
  },
  {
   "cell_type": "code",
   "execution_count": null,
   "metadata": {},
   "outputs": [],
   "source": [
    "# Calculate the correlation matrix for the flyatlas data\n",
    "unsigned_correlation = calculate_unsigned_correlation(tissue_expression)\n",
    "_ = plt.hist(unsigned_correlation.flatten(), bins=100)"
   ]
  },
  {
   "cell_type": "markdown",
   "metadata": {},
   "source": [
    "**Task 1(c)**\n",
    "\n",
    "Why are we using an unsigned correlation matrix instead of a signed correlation matrix? (max 50 words)"
   ]
  },
  {
   "cell_type": "markdown",
   "metadata": {},
   "source": [
    "*# ~~ GRADED CELL - your answer here --*\n",
    "\n"
   ]
  },
  {
   "cell_type": "markdown",
   "metadata": {},
   "source": [
    "## Task 2 - Building an adjacency matrix"
   ]
  },
  {
   "cell_type": "markdown",
   "metadata": {},
   "source": [
    "To use the correlation matrix to create a network, we will transform it into an adjacency matrix. You will create two types of adjacency matrix, a binary adjacency matrix and a weighted adjacency matrix."
   ]
  },
  {
   "cell_type": "markdown",
   "metadata": {},
   "source": [
    "**Task 2(a)**\n",
    "\n",
    "To create the binary adjacency matrix, transform the correlation matrix such that every correlation greater than or equal to a given threshold value is considered adjacent (represented by a 1 in the matrix), and every correlation below that value is considered not adjacent (represented by a 0). Set the diagonal of the adjacency matrix to 0, so that we don't consider a node to be adjacent to itself."
   ]
  },
  {
   "cell_type": "code",
   "execution_count": null,
   "metadata": {},
   "outputs": [],
   "source": [
    "# ~~ GRADED CELL - complete this cell ~~\n",
    "\n",
    "def calculate_binary_adjacencies(correlation, threshold):\n",
    "    '''\n",
    "    Given a correlation matrix between genes of shape (N,N),\n",
    "    return the corresponding binary adjacency matrix of shape (N,N),\n",
    "    where correlation values are above the given threshold.\n",
    "    '''\n"
   ]
  },
  {
   "cell_type": "markdown",
   "metadata": {},
   "source": [
    "The below test case should return (if displayed to a precision of two decimal places)\n",
    "\n",
    "```\n",
    "array([[ 0.,  1.,  0.,  0.],\n",
    "       [ 1.,  0.,  1.,  0.],\n",
    "       [ 0.,  1.,  0.,  1.],\n",
    "       [ 0.,  0.,  1.,  0.]])\n",
    "```"
   ]
  },
  {
   "cell_type": "code",
   "execution_count": null,
   "metadata": {},
   "outputs": [],
   "source": [
    "test_corr = np.array([[ 1.  ,  0.95,  0.3 ,  0.15],\n",
    "       [ 0.95,  1.  ,  0.59,  0.46],\n",
    "       [ 0.3 ,  0.59,  1.  ,  0.99],\n",
    "       [ 0.15,  0.46,  0.99,  1.  ]])\n",
    "calculate_binary_adjacencies(test_corr, 0.5)"
   ]
  },
  {
   "cell_type": "markdown",
   "metadata": {},
   "source": [
    "The below test case should return (if displayed to a precision of two decimal places)\n",
    "\n",
    "```\n",
    "array([[ 0.,  1.,  0.,  0.],\n",
    "       [ 1.,  0.,  0.,  0.],\n",
    "       [ 0.,  0.,  0.,  1.],\n",
    "       [ 0.,  0.,  1.,  0.]])\n",
    "```"
   ]
  },
  {
   "cell_type": "code",
   "execution_count": null,
   "metadata": {},
   "outputs": [],
   "source": [
    "test_corr = np.array([[ 1.  ,  0.95,  0.3 ,  0.15],\n",
    "       [ 0.95,  1.  ,  0.59,  0.46],\n",
    "       [ 0.3 ,  0.59,  1.  ,  0.99],\n",
    "       [ 0.15,  0.46,  0.99,  1.  ]])\n",
    "calculate_binary_adjacencies(test_corr, 0.6)"
   ]
  },
  {
   "cell_type": "code",
   "execution_count": null,
   "metadata": {},
   "outputs": [],
   "source": [
    "# Calculate the binary adjacency matrix for the flyatlas data\n",
    "adjacency_binary = calculate_binary_adjacencies(unsigned_correlation, 0.85)"
   ]
  },
  {
   "cell_type": "markdown",
   "metadata": {},
   "source": [
    "**Task 2(b)**\n",
    "\n",
    "Calculate the connectivity of the adjacency matrix by dividing the total number of edges by the number of possible edges."
   ]
  },
  {
   "cell_type": "code",
   "execution_count": null,
   "metadata": {},
   "outputs": [],
   "source": [
    "# ~~ GRADED CELL - complete this cell ~~\n",
    "\n",
    "def calculate_connectivity(adjacency):\n",
    "    '''\n",
    "    Calculate the number of edges that exist in a given binary adjacency matrix,\n",
    "    divided by the total number of possible edges between all nodes.\n",
    "    '''\n",
    "    "
   ]
  },
  {
   "cell_type": "code",
   "execution_count": null,
   "metadata": {},
   "outputs": [],
   "source": [
    "# Should return 0.5\n",
    "calculate_connectivity(np.array([[ 0.,  1.,  0.,  0.],\n",
    "                                   [ 1.,  0.,  1.,  0.],\n",
    "                                   [ 0.,  1.,  0.,  1.],\n",
    "                                   [ 0.,  0.,  1.,  0.]]))"
   ]
  },
  {
   "cell_type": "code",
   "execution_count": null,
   "metadata": {},
   "outputs": [],
   "source": [
    "# Should return 0.33\n",
    "calculate_connectivity(np.array([[ 0.,  1.,  0.,  0.],\n",
    "                                   [ 1.,  0.,  0.,  0.],\n",
    "                                   [ 0.,  0.,  0.,  1.],\n",
    "                                   [ 0.,  0.,  1.,  0.]]))"
   ]
  },
  {
   "cell_type": "code",
   "execution_count": null,
   "metadata": {},
   "outputs": [],
   "source": [
    "calculate_connectivity(adjacency_binary)"
   ]
  },
  {
   "cell_type": "markdown",
   "metadata": {},
   "source": [
    "**Task 2(c)**\n",
    "\n",
    "The weighted adjacency matrix can be created by raising the correlation matrix to some power. Write a function that raises the correlation matrix to some power, `beta`, and sets the diagonal to `0`. For the rest of the assignment we will use `beta = 4` but your function should accept any integer."
   ]
  },
  {
   "cell_type": "code",
   "execution_count": null,
   "metadata": {},
   "outputs": [],
   "source": [
    "# ~~ GRADED CELL - complete this cell ~~\n",
    "\n",
    "def calculate_weighted_adjacencies(correlation, beta):\n",
    "    '''\n",
    "    Given a correlation matrix between genes of shape (N,N),\n",
    "    return the corresponding binary adjacency matrix of shape (N,N),\n",
    "    where we use a power-law soft threshold with parameter beta.\n",
    "    '''\n"
   ]
  },
  {
   "cell_type": "markdown",
   "metadata": {},
   "source": [
    "The below test case should return (if displayed to a precision of two decimal places)\n",
    "\n",
    "```\n",
    "array([[ 0.  ,  0.9 ,  0.09,  0.02],\n",
    "       [ 0.9 ,  0.  ,  0.35,  0.21],\n",
    "       [ 0.09,  0.35,  0.  ,  0.98],\n",
    "       [ 0.02,  0.21,  0.98,  0.  ]])\n",
    "```"
   ]
  },
  {
   "cell_type": "code",
   "execution_count": null,
   "metadata": {},
   "outputs": [],
   "source": [
    "test_corr = np.array([[ 1.  ,  0.95,  0.3 ,  0.15],\n",
    "       [ 0.95,  1.  ,  0.59,  0.46],\n",
    "       [ 0.3 ,  0.59,  1.  ,  0.99],\n",
    "       [ 0.15,  0.46,  0.99,  1.  ]])\n",
    "calculate_weighted_adjacencies(test_corr, 2)"
   ]
  },
  {
   "cell_type": "markdown",
   "metadata": {},
   "source": [
    "The below test case should return (if displayed to a precision of two decimal places)\n",
    "\n",
    "```\n",
    "array([[ 0.  ,  0.86,  0.03,  0.  ],\n",
    "       [ 0.86,  0.  ,  0.21,  0.1 ],\n",
    "       [ 0.03,  0.21,  0.  ,  0.97],\n",
    "       [ 0.  ,  0.1 ,  0.97,  0.  ]])\n",
    "```"
   ]
  },
  {
   "cell_type": "code",
   "execution_count": null,
   "metadata": {},
   "outputs": [],
   "source": [
    "test_corr = np.array([[ 1.  ,  0.95,  0.3 ,  0.15],\n",
    "       [ 0.95,  1.  ,  0.59,  0.46],\n",
    "       [ 0.3 ,  0.59,  1.  ,  0.99],\n",
    "       [ 0.15,  0.46,  0.99,  1.  ]])\n",
    "calculate_weighted_adjacencies(test_corr, 3)"
   ]
  },
  {
   "cell_type": "code",
   "execution_count": null,
   "metadata": {},
   "outputs": [],
   "source": [
    "# Calculate the weighted adjacency matrix for the flyatlas data\n",
    "adjacency_weighted = calculate_weighted_adjacencies(unsigned_correlation, 4)"
   ]
  },
  {
   "cell_type": "markdown",
   "metadata": {},
   "source": [
    "**Task 2(d)**\n",
    "\n",
    "How do you expect the network connectivity would change if the threshold for the binary adjacency matrix is increased or decreased? (max 50 words)"
   ]
  },
  {
   "cell_type": "markdown",
   "metadata": {},
   "source": [
    "*# ~~ GRADED CELL - your answer here --*\n"
   ]
  },
  {
   "cell_type": "markdown",
   "metadata": {},
   "source": [
    "## Task 3 - Defining modules with hierarchical clustering"
   ]
  },
  {
   "cell_type": "markdown",
   "metadata": {},
   "source": [
    "We will implement a distance or dissimilarity function between genes that makes use of the gene network as specified by the adjacency matrix, and these distances to carry out hierarchical clustering. We'll use scipy's hierarchical clustering functions `linkage()` and `fcluster()`, as they provide us with an easy way to draw the dendrogram."
   ]
  },
  {
   "cell_type": "markdown",
   "metadata": {},
   "source": [
    "The distance or dissimilarity function we'll implement is based on that given in lectures:\n",
    "\n",
    "If $i=j$, \n",
    "\n",
    "$$d_{ij} = 0$$\n",
    "\n",
    "otherwise\n",
    "\n",
    "$$d_{ij} = 1 - \\frac{l_{ij} + a_{ij}}{min(k_i,k_j) + 1 - a_{ij}}$$\n",
    "\n",
    "where\n",
    "\n",
    "$$l_{ij} = \\Sigma_u a_{iu} a_{uj}$$\n",
    "\n",
    "$$k_i = \\Sigma_u a_{iu}$$\n",
    "\n",
    "and $a_{ij}$ refers to the $i$,$j$th element of the adjacency matrix.\n",
    "\n",
    "Note we have set $d_{ij}$ to $0$ if $i=j$ as this is the distance from a node to itself.\n",
    "\n",
    "In the functions below we'll refer to $k_i$ as the vertex connectivity of node $i$ (i.e. gene $i$), and $l_{ij}$ as the neighbour connectivity between $i$ and $j$. "
   ]
  },
  {
   "cell_type": "markdown",
   "metadata": {},
   "source": [
    "**Task 3(a)**\n",
    "\n",
    "In the distance metric above, $l_{ij}$ sums over every node in the graph, but only a subset of nodes contribute. Based on the equations when applied to the binary adjacency matrix, explain which subset of nodes contribute to $d_{ij}$ for a given $i$ and $j$. (max 50 words)\n"
   ]
  },
  {
   "cell_type": "markdown",
   "metadata": {},
   "source": [
    "*# ~~ GRADED CELL - your answer here --*\n"
   ]
  },
  {
   "cell_type": "markdown",
   "metadata": {},
   "source": [
    "**Task 3(b)**\n",
    "\n",
    "Complete the `vertex_connectivity()` and `neighbour_connectivity()` functions below. The `distance_matrix()` function has been provided, and should work correctly once the other two functions are complete."
   ]
  },
  {
   "cell_type": "code",
   "execution_count": null,
   "metadata": {},
   "outputs": [],
   "source": [
    "# ~~ GRADED CELL - complete this cell ~~\n",
    "\n",
    "def vertex_connectivity(adjacency):\n",
    "    '''\n",
    "    Given an adjacency matrix of shape (N,N), calculate the\n",
    "    vertex connectivity k_i of every node i and return these as an array of\n",
    "    shape (N,1).\n",
    "    '''"
   ]
  },
  {
   "cell_type": "code",
   "execution_count": null,
   "metadata": {},
   "outputs": [],
   "source": [
    "# ~~ GRADED CELL - complete this cell ~~\n",
    "\n",
    "def neighbour_connectivity(adjacency):\n",
    "    '''\n",
    "    Given the adjacency matrix of shape (N,N), calculate the sum\n",
    "    of path weights from every i to every j via a single neighbouring node,\n",
    "    i.e. Sum a_iu a_uj over all nodes u.\n",
    "    Return these path weights from i to j in a matrix of shape (N,N)\n",
    "    '''\n"
   ]
  },
  {
   "cell_type": "code",
   "execution_count": null,
   "metadata": {},
   "outputs": [],
   "source": [
    "def distance_matrix(adjacency):\n",
    "    '''\n",
    "    Given the adjacency matrix of shape (N,N), calculate the distance \n",
    "    between every i and j based on the dissamilarity formula provided in lectures,\n",
    "    and return these distances in a matrix of shape (N,N).\n",
    "    '''\n",
    "    l_ij = neighbour_connectivity(adjacency)\n",
    "    k_i = vertex_connectivity(adjacency)[:,np.newaxis]\n",
    "    print(k_i)\n",
    "    k_j = vertex_connectivity(adjacency)[np.newaxis,:]\n",
    "    print(k_j)\n",
    "    print(np.minimum(k_i,k_j))\n",
    "    d_ij = 1 - ((l_ij + adjacency) / (np.minimum(k_i,k_j) + 1 - adjacency))\n",
    "    np.fill_diagonal(d_ij, 0)\n",
    "    return d_ij"
   ]
  },
  {
   "cell_type": "markdown",
   "metadata": {},
   "source": [
    "The below test case should return (if displayed to a precision of two decimal places)\n",
    "\n",
    "```\n",
    "array([ 0.89,  1.17,  1.21,  1.07])\n",
    "```"
   ]
  },
  {
   "cell_type": "code",
   "execution_count": null,
   "metadata": {},
   "outputs": [],
   "source": [
    "vertex_connectivity(np.array([[ 0.  ,  0.86,  0.03,  0.  ],\n",
    "                           [ 0.86,  0.  ,  0.21,  0.1 ],\n",
    "                           [ 0.03,  0.21,  0.  ,  0.97],\n",
    "                           [ 0.  ,  0.1 ,  0.97,  0.  ]]))"
   ]
  },
  {
   "cell_type": "markdown",
   "metadata": {},
   "source": [
    "The below test case should return (if displayed to a precision of two decimal places)\n",
    "\n",
    "```\n",
    "array([[ 0.74,  0.01,  0.18,  0.12],\n",
    "       [ 0.01,  0.79,  0.12,  0.2 ],\n",
    "       [ 0.18,  0.12,  0.99,  0.02],\n",
    "       [ 0.12,  0.2 ,  0.02,  0.95]])\n",
    "```"
   ]
  },
  {
   "cell_type": "code",
   "execution_count": null,
   "metadata": {},
   "outputs": [],
   "source": [
    "neighbour_connectivity(np.array([[ 0.  ,  0.86,  0.03,  0.  ],\n",
    "                           [ 0.86,  0.  ,  0.21,  0.1 ],\n",
    "                           [ 0.03,  0.21,  0.  ,  0.97],\n",
    "                           [ 0.  ,  0.1 ,  0.97,  0.  ]]))"
   ]
  },
  {
   "cell_type": "markdown",
   "metadata": {},
   "source": [
    "The below test case should return (if displayed to a precision of two decimal places)\n",
    "\n",
    "```\n",
    "array([[ 0.  ,  0.16,  0.89,  0.94],\n",
    "       [ 0.16,  0.  ,  0.83,  0.85],\n",
    "       [ 0.89,  0.83,  0.  ,  0.1 ],\n",
    "       [ 0.94,  0.85,  0.1 ,  0.  ]])\n",
    "```"
   ]
  },
  {
   "cell_type": "code",
   "execution_count": null,
   "metadata": {},
   "outputs": [],
   "source": [
    "distance_matrix(np.array([[ 0.  ,  0.86,  0.03,  0.  ],\n",
    "                       [ 0.86,  0.  ,  0.21,  0.1 ],\n",
    "                       [ 0.03,  0.21,  0.  ,  0.97],\n",
    "                       [ 0.  ,  0.1 ,  0.97,  0.  ]]))"
   ]
  },
  {
   "cell_type": "code",
   "execution_count": null,
   "metadata": {},
   "outputs": [],
   "source": [
    "# Calculate the distance matrix for flyatlas data\n",
    "distances = distance_matrix(adjacency_weighted)"
   ]
  },
  {
   "cell_type": "markdown",
   "metadata": {},
   "source": [
    "We can now carry out hierarchical clustering. Here, scipy's `linkage()` function performs agglomerative clustering based on the provided distances. \n",
    "\n",
    "The most important function below is `linkage()`. Other functions you see are `squareform()`, a utility function to transform the distance matrix into the format scipy requires, and `transpose()`, which is here used to compensate for small floating-point errors and ensure the distance matrix is exactly symmetric."
   ]
  },
  {
   "cell_type": "code",
   "execution_count": null,
   "metadata": {},
   "outputs": [],
   "source": [
    "Z = linkage(squareform((distances+distances.transpose())/2), 'ward')"
   ]
  },
  {
   "cell_type": "markdown",
   "metadata": {},
   "source": [
    "Scipy provides a function to draw the dendrogram:"
   ]
  },
  {
   "cell_type": "code",
   "execution_count": null,
   "metadata": {},
   "outputs": [],
   "source": [
    "plt.figure(figsize=(25, 10))\n",
    "_ = dendrogram(Z, no_labels=True)\n",
    "plt.axhline(y = 4.5, color = 'r', linestyle = '--')"
   ]
  },
  {
   "cell_type": "markdown",
   "metadata": {},
   "source": [
    "And we can extract the desired number of flat clusters with `fcluster()`:"
   ]
  },
  {
   "cell_type": "code",
   "execution_count": null,
   "metadata": {},
   "outputs": [],
   "source": [
    "labels = fcluster(Z, 6, criterion='maxclust')"
   ]
  },
  {
   "cell_type": "markdown",
   "metadata": {},
   "source": [
    "We now have a numpy array assigning each gene to one of 6 clusters, labelled 1 to 6:"
   ]
  },
  {
   "cell_type": "code",
   "execution_count": null,
   "metadata": {},
   "outputs": [],
   "source": [
    "labels[:10]"
   ]
  },
  {
   "cell_type": "markdown",
   "metadata": {},
   "source": [
    "**Task 3(c)**\n",
    "\n",
    "Write a function to convert this flat list of labels into a set of modules in the form of lists of gene names."
   ]
  },
  {
   "cell_type": "code",
   "execution_count": null,
   "metadata": {},
   "outputs": [],
   "source": [
    "# ~~ GRADED CELL - complete this cell ~~\n",
    "\n",
    "def module_lists(genes, labels):\n",
    "    '''\n",
    "    Given an array or series of gene names and an array or series of cluster labels,\n",
    "    return a list of lists where each list represents the genes in a cluster.\n",
    "    '''\n"
   ]
  },
  {
   "cell_type": "code",
   "execution_count": null,
   "metadata": {},
   "outputs": [],
   "source": [
    "# Should return [['GeneA', 'GeneC'], ['GeneB'], ['GeneD']]\n",
    "module_lists(['GeneA', 'GeneB', 'GeneC', 'GeneD'], [1,2,1,3])"
   ]
  },
  {
   "cell_type": "code",
   "execution_count": null,
   "metadata": {},
   "outputs": [],
   "source": [
    "# Get our flyatlas module lists\n",
    "modules_hierarchical = module_lists(tissue_expression.index, labels)\n",
    "\n",
    "# The sizes of our modules\n",
    "[len(module) for module in modules_hierarchical]"
   ]
  },
  {
   "cell_type": "code",
   "execution_count": null,
   "metadata": {},
   "outputs": [],
   "source": [
    "# The modules themselves\n",
    "modules_hierarchical"
   ]
  },
  {
   "cell_type": "markdown",
   "metadata": {},
   "source": [
    "## Task 4 - Clustering with k-medoids "
   ]
  },
  {
   "cell_type": "markdown",
   "metadata": {},
   "source": [
    "In this task, we'll use a different clustering method and see what modules we get.\n",
    "\n",
    "We don't have a Euclidean distance space, but we have a pairwise matrix of distances, which allows us to implement k-medoids. Recall that in k-medoids, one of our data points acts as the centroid of each cluster - in this case there will be a centroid gene for each cluster. The algorithm we will implement for k-medoids is:\n",
    "\n",
    "1. Initialise the centroids randomly.\n",
    "2. Assign each gene to the closest centroid (in this case, using our network-based distances).\n",
    "3. Choose the most-central gene in each cluster to be the new centroid. This is the gene which minimises the sum of squared distances within the cluster.\n",
    "4. Repeat from step (2) until the algorithm converges and the centroids no longer change.\n",
    "\n",
    "The functions `initialise_centroids()` and `calculate_new_centroids()` are provided for you. You need to implement `assign_points()` and complete the function `kmedoids()` itself."
   ]
  },
  {
   "cell_type": "code",
   "execution_count": null,
   "metadata": {},
   "outputs": [],
   "source": [
    "def initialise_centroids(N, k):\n",
    "    \"\"\"\n",
    "    Select k centroid indices randomly given that there are N data points.\n",
    "    We are only selecting the indices, so we don't need the actual data.\n",
    "    \"\"\"\n",
    "    centroid_indices = np.random.choice(list(range(N)), size=k, replace=False)\n",
    "    return centroid_indices "
   ]
  },
  {
   "cell_type": "code",
   "execution_count": null,
   "metadata": {},
   "outputs": [],
   "source": [
    "def calculate_centroid_index(within_cluster_distances):\n",
    "    \"\"\"\n",
    "    Take in distance array of size (C,C) where C is the size of the cluster.\n",
    "    Return a centroid index (of type int) which is the most-central data point.\n",
    "    \"\"\"\n",
    "    # We'll minimise the sum of square distances\n",
    "    # Calculate this quantity for every point, and pick the best as the centroid\n",
    "    sse = np.sum((within_cluster_distances**2),axis=1)\n",
    "    return np.argmin(sse)\n",
    "\n",
    "def calculate_new_centroids(distances, assignments, k):\n",
    "    \"\"\"\n",
    "    Take distances of shape (N,N) and cluster assignments of shape (N) and\n",
    "    return centroid indices array of shape (k).\n",
    "    \"\"\"\n",
    "    assert np.max(assignments) < k\n",
    "    centroid_list = []\n",
    "    for c in range(k):\n",
    "        in_cluster = assignments==c\n",
    "        cluster_distances = distances[in_cluster,:][:,in_cluster]\n",
    "        centroid_index_in_cluster = calculate_centroid_index(cluster_distances)\n",
    "        centroid_index = np.array(list(range(len(distances))))[in_cluster][centroid_index_in_cluster]\n",
    "        centroid_list.append(centroid_index)\n",
    "    return np.array(centroid_list)"
   ]
  },
  {
   "cell_type": "code",
   "execution_count": null,
   "metadata": {},
   "outputs": [],
   "source": [
    "# ~~ GRADED CELL - complete this cell ~~\n",
    "\n",
    "def assign_points(centroid_indices, distances):\n",
    "    \"\"\"\n",
    "    Assign each point to its closest centroid.\n",
    "    Take in an array of centroid indices of length k, and an array representing\n",
    "    the distance matrix, of shape (N,N).\n",
    "    Return a 1D array of length N representing cluster assignments.\n",
    "    Each value in the returned array should be a number from 0 to k-1,\n",
    "    indicating which cluster (centroid) this data point has been assigned to.\n",
    "    \"\"\"\n"
   ]
  },
  {
   "cell_type": "code",
   "execution_count": null,
   "metadata": {},
   "outputs": [],
   "source": [
    "# ~~ GRADED CELL - complete this cell ~~\n",
    "\n",
    "def kmedoids(distances, k):\n",
    "    \"\"\"\n",
    "    Implement k-medoids clustering on a given set of points, by taking in\n",
    "    a pre-computed distance matrix of size (N,N), and a number of clusters k.\n",
    "    Returns a tuple of (centroid_indices, cluster_assignments)\n",
    "    where \n",
    "    centroid_indices is a list of indices specifying which data points are now\n",
    "     centroids, and\n",
    "    cluster_assignments is a 1D array of length N, where the values of the\n",
    "     array are numbers from 0 to k-1 and represent cluster assignments.\n",
    "    \"\"\"\n"
   ]
  },
  {
   "cell_type": "code",
   "execution_count": null,
   "metadata": {},
   "outputs": [],
   "source": [
    "# Should return array([0, 0, 1, 1])\n",
    "\n",
    "test_dist = np.array([[ 0.  ,  0.16,  0.89,  0.94],\n",
    "       [ 0.16,  0.  ,  0.83,  0.85],\n",
    "       [ 0.89,  0.83,  0.  ,  0.1 ],\n",
    "       [ 0.94,  0.85,  0.1 ,  0.  ]])\n",
    "assign_points([0,2], test_dist)"
   ]
  },
  {
   "cell_type": "code",
   "execution_count": null,
   "metadata": {},
   "outputs": [],
   "source": [
    "# Should return array([0, 1, 1, 1])\n",
    "\n",
    "test_dist = np.array([[ 0.  ,  0.16,  0.89,  0.94],\n",
    "       [ 0.16,  0.  ,  0.83,  0.85],\n",
    "       [ 0.89,  0.83,  0.  ,  0.1 ],\n",
    "       [ 0.94,  0.85,  0.1 ,  0.  ]])\n",
    "assign_points([0,1], test_dist)"
   ]
  },
  {
   "cell_type": "code",
   "execution_count": null,
   "metadata": {},
   "outputs": [],
   "source": [
    "# k-medoids is stochastic, so you're not guaranteed to get the correct result every \n",
    "# time for this test. However the most likely outcome is\n",
    "# (array([2, 0]), array([1, 1, 0, 0]))\n",
    "# or equivalently\n",
    "# (array([0, 2]), array([0, 0, 1, 1]))\n",
    "\n",
    "test_dist = np.array([[ 0.  ,  0.16,  0.89,  0.94],\n",
    "       [ 0.16,  0.  ,  0.83,  0.85],\n",
    "       [ 0.89,  0.83,  0.  ,  0.1 ],\n",
    "       [ 0.94,  0.85,  0.1 ,  0.  ]])\n",
    "kmedoids(test_dist, 2)"
   ]
  },
  {
   "cell_type": "markdown",
   "metadata": {},
   "source": [
    "Now we can cluster our data:"
   ]
  },
  {
   "cell_type": "code",
   "execution_count": null,
   "metadata": {},
   "outputs": [],
   "source": [
    "# Cluster our flyatlas data\n",
    "centroids, kmedoids_labels = kmedoids(distances, 6)"
   ]
  },
  {
   "cell_type": "code",
   "execution_count": null,
   "metadata": {},
   "outputs": [],
   "source": [
    "# genes that are the centroids\n",
    "tissue_expression.index[centroids]"
   ]
  },
  {
   "cell_type": "code",
   "execution_count": null,
   "metadata": {},
   "outputs": [],
   "source": [
    "# Use the module_lists function you defined earlier\n",
    "modules_kmedoids = module_lists(tissue_expression.index, kmedoids_labels)\n",
    "\n",
    "# Module sizes\n",
    "[len(m) for m in modules_kmedoids]"
   ]
  },
  {
   "cell_type": "code",
   "execution_count": null,
   "metadata": {},
   "outputs": [],
   "source": [
    "# The modules themselves\n",
    "modules_kmedoids"
   ]
  },
  {
   "cell_type": "markdown",
   "metadata": {},
   "source": [
    "## Task 5 - Dimension Reduction"
   ]
  },
  {
   "cell_type": "markdown",
   "metadata": {},
   "source": [
    "In this task we will be performing Priciple Components Analysis to determine which gene in the first principle component has the highest contribution to the varience."
   ]
  },
  {
   "cell_type": "markdown",
   "metadata": {},
   "source": [
    "**Task 5(a)**\n",
    "\n",
    "Perform a Principle Componanets Analysis on the log_expression matrix with the correct number of components and print the explained variance by component list (like we saw in the week 9 tutorial)"
   ]
  },
  {
   "cell_type": "code",
   "execution_count": null,
   "metadata": {},
   "outputs": [],
   "source": [
    "# ~~ GRADED CELL - complete this cell ~~"
   ]
  },
  {
   "cell_type": "markdown",
   "metadata": {},
   "source": [
    "**Task 5(b)**\n",
    "\n",
    "Print the gene that contributes most to the first eigen vector (the first principle component) of the PCA. The word limit on the second cell is 50 words."
   ]
  },
  {
   "cell_type": "code",
   "execution_count": 1,
   "metadata": {},
   "outputs": [],
   "source": [
    "# ~~ GRADED CELL - complete this cell ~~"
   ]
  },
  {
   "cell_type": "markdown",
   "metadata": {},
   "source": [
    "## Task 6 - Centrality"
   ]
  },
  {
   "cell_type": "markdown",
   "metadata": {},
   "source": [
    "In this task we will be computing differing measures of centrality in the gene found above in Task 5. "
   ]
  },
  {
   "cell_type": "markdown",
   "metadata": {},
   "source": [
    "**Task 6 (a)**\n",
    "\n",
    "Degree Centrality\n",
    "\n",
    "Using the adjacency_binary matrix (with a threshold value of 0.85) claculate the degree centrality of the gene found in Task 5."
   ]
  },
  {
   "cell_type": "code",
   "execution_count": null,
   "metadata": {},
   "outputs": [],
   "source": [
    "# ~~ GRADED CELL - your code here --"
   ]
  },
  {
   "cell_type": "markdown",
   "metadata": {},
   "source": [
    "**Task 6 (b)**\n",
    "\n",
    "Betweeness Centrality\n",
    "\n",
    "Using the adjacency_binary matrix generated above(with a threshold value of 0.85), turn the matrix into a graph object (using networkx) and then claculate the betweeness centrality of the gene found in Task 5 using the [networkx function for betweeness centrality](https://networkx.github.io/documentation/networkx-2.2/reference/algorithms/generate/networkx.algorithms.centrality.betweenness_centrality.html#networkx.algorithms.centrality.betweenness_centrality)."
   ]
  },
  {
   "cell_type": "code",
   "execution_count": null,
   "metadata": {},
   "outputs": [],
   "source": [
    "# ~~ GRADED CELL - your code here --"
   ]
  },
  {
   "cell_type": "markdown",
   "metadata": {},
   "source": [
    "**Task 6 (c)**\n",
    "\n",
    "Closeness Centrality\n",
    "\n",
    "Using the [dijkstra_path](https://networkx.github.io/documentation/networkx-1.10/reference/generated/networkx.algorithms.shortest_paths.weighted.dijkstra_path.html) function from networkx claculate the closeness centrality of the gene found in Task 5 using the following formula:\n",
    "\n",
    "\n",
    "$$C(u) = \\frac{n - 1}{\\sum_{v=1}^{n-1} d(v, u)}$$\n",
    "\n",
    "where d(v, u) is the shortest-path distance between v and u, and n is the number of nodes that can reach u."
   ]
  },
  {
   "cell_type": "code",
   "execution_count": 2,
   "metadata": {},
   "outputs": [],
   "source": [
    "# ~~ GRADED CELL - your code here --"
   ]
  },
  {
   "cell_type": "markdown",
   "metadata": {},
   "source": [
    "**Task 6 (d)**\n",
    "\n",
    "What does each measurement say about the gene's centrality? Is it relatively central? \n"
   ]
  },
  {
   "cell_type": "markdown",
   "metadata": {},
   "source": [
    "*# ~~ GRADED CELL - your answer here --*\n"
   ]
  }
 ],
 "metadata": {
  "kernelspec": {
   "display_name": "Python 3",
   "language": "python",
   "name": "python3"
  },
  "language_info": {
   "codemirror_mode": {
    "name": "ipython",
    "version": 3
   },
   "file_extension": ".py",
   "mimetype": "text/x-python",
   "name": "python",
   "nbconvert_exporter": "python",
   "pygments_lexer": "ipython3",
   "version": "3.6.4"
  }
 },
 "nbformat": 4,
 "nbformat_minor": 2
}
